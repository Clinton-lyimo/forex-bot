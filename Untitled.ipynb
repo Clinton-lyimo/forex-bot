{
 "cells": [
  {
   "cell_type": "code",
   "execution_count": 1,
   "id": "da66ab54-5fd7-4192-bfcf-ef8550cc9625",
   "metadata": {},
   "outputs": [
    {
     "name": "stdout",
     "output_type": "stream",
     "text": [
      "Columns: Index(['open', 'high', 'low', 'close', 'rsi', 'macd', 'macd_signal', 'bb_high',\n",
      "       'bb_low', 'atr'],\n",
      "      dtype='object')\n",
      "Last row:\n",
      "              2025-07-16\n",
      "open           1.159900\n",
      "high           1.172100\n",
      "low            1.156100\n",
      "close          1.163400\n",
      "rsi           51.346182\n",
      "macd           0.004732\n",
      "macd_signal    0.007344\n",
      "bb_high        1.185358\n",
      "bb_low         1.150992\n",
      "atr            0.008461\n",
      "\n",
      "Any NaNs in last row: open           False\n",
      "high           False\n",
      "low            False\n",
      "close          False\n",
      "rsi            False\n",
      "macd           False\n",
      "macd_signal    False\n",
      "bb_high        False\n",
      "bb_low         False\n",
      "atr            False\n",
      "dtype: bool\n"
     ]
    }
   ],
   "source": [
    "import pandas as pd\n",
    "\n",
    "df = pd.read_csv(\"data/processed/EUR_USD.csv\", index_col=0, parse_dates=True)\n",
    "print(\"Columns:\", df.columns)\n",
    "print(\"Last row:\\n\", df.tail(1).T)\n",
    "print(\"\\nAny NaNs in last row:\", df.tail(1).isnull().any())"
   ]
  },
  {
   "cell_type": "code",
   "execution_count": 1,
   "id": "790a8bd8-f599-458b-ab78-6be2d4e0495a",
   "metadata": {},
   "outputs": [
    {
     "name": "stdout",
     "output_type": "stream",
     "text": [
      "✅ MT5 successfully initialized!\n"
     ]
    }
   ],
   "source": [
    "import MetaTrader5 as mt5\n",
    "\n",
    "if mt5.initialize():\n",
    "    print(\"✅ MT5 successfully initialized!\")\n",
    "    mt5.shutdown()\n",
    "else:\n",
    "    print(\"❌ MT5 initialization failed:\", mt5.last_error())"
   ]
  },
  {
   "cell_type": "code",
   "execution_count": null,
   "id": "4ce3d95f-d1c9-4207-88fe-ea2326c01af8",
   "metadata": {},
   "outputs": [],
   "source": []
  }
 ],
 "metadata": {
  "kernelspec": {
   "display_name": "Python 3 (ipykernel)",
   "language": "python",
   "name": "python3"
  },
  "language_info": {
   "codemirror_mode": {
    "name": "ipython",
    "version": 3
   },
   "file_extension": ".py",
   "mimetype": "text/x-python",
   "name": "python",
   "nbconvert_exporter": "python",
   "pygments_lexer": "ipython3",
   "version": "3.12.3"
  }
 },
 "nbformat": 4,
 "nbformat_minor": 5
}
